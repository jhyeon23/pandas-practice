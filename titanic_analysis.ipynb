{
  "nbformat": 4,
  "nbformat_minor": 0,
  "metadata": {
    "kernelspec": {
      "display_name": "Python 3",
      "language": "python",
      "name": "python3"
    },
    "language_info": {
      "codemirror_mode": {
        "name": "ipython",
        "version": 3
      },
      "file_extension": ".py",
      "mimetype": "text/x-python",
      "name": "python",
      "nbconvert_exporter": "python",
      "pygments_lexer": "ipython3",
      "version": "3.7.4"
    },
    "colab": {
      "name": "titanic_analysis.ipynb",
      "provenance": [],
      "collapsed_sections": [],
      "include_colab_link": true
    }
  },
  "cells": [
    {
      "cell_type": "markdown",
      "metadata": {
        "id": "view-in-github",
        "colab_type": "text"
      },
      "source": [
        "<a href=\"https://colab.research.google.com/github/jhyeon23/pandas-practice/blob/main/titanic_analysis.ipynb\" target=\"_parent\"><img src=\"https://colab.research.google.com/assets/colab-badge.svg\" alt=\"Open In Colab\"/></a>"
      ]
    },
    {
      "cell_type": "markdown",
      "metadata": {
        "id": "FfngZ2IEmWoD"
      },
      "source": [
        "# 타이타닉호 생존자 데이터 분석\n",
        "어떤 사람들이 생존할 가능성이 더 높을까?\n",
        "\n",
        "---\n",
        "\n",
        "https://www.kaggle.com/c/titanic\n",
        "\n",
        "칼럼 정보\n",
        "* Survival : 생존 여부\n",
        "* Pclass : 티켓의 클래스\n",
        "* Name : 탑승자 이름\n",
        "* Sex : 성별\n",
        "* Age : 나이\n",
        "* Sibsp : 탐승한 형제자매, 배우자의 수\n",
        "* Parch : 탑승한 부모, 자녀의 수\n",
        "* Ticket : 티켓 번호\n",
        "* Fare : 요금\n",
        "* Cabin : 케빈 번호\n",
        "* Embarked : 승선지 (항구)"
      ]
    },
    {
      "cell_type": "markdown",
      "metadata": {
        "id": "ztWDv9VvmWoH"
      },
      "source": [
        "# 데이터 불러오기"
      ]
    },
    {
      "cell_type": "code",
      "metadata": {
        "id": "IGlxgg7rmeku"
      },
      "source": [
        "from google.colab import drive\n",
        "drive.mount('/gdrive')"
      ],
      "execution_count": null,
      "outputs": []
    },
    {
      "cell_type": "code",
      "metadata": {
        "id": "PLWyD7OsmWoH"
      },
      "source": [
        "import pandas as pd\n",
        "\n",
        "train = pd.read_csv\n",
        "test = pd.read_csv"
      ],
      "execution_count": null,
      "outputs": []
    },
    {
      "cell_type": "markdown",
      "metadata": {
        "id": "AyvoewSrmWoK"
      },
      "source": [
        "# 데이터 탐색\n",
        "\n",
        "#### 탐색적 데이터 분석\n",
        "\n",
        "탐색적 데이터 분석 과정에서 데이터의 모든 것을 이해하려고 부담스럽게 접근할 필요는 없습니다.\n",
        "<br>일부 행을 간단히 출력하여 훑어보며 단계적으로 데이터에 익숙해지세요.\n",
        "<br>탐색적 데이터 분석에서는 데이터가 어떻게 생겼는지, 어떤 변수들이 존재하는지, 어떤 타입을 가지고 있는지 등의 느낌을 보는 것으로 충분합니다."
      ]
    },
    {
      "cell_type": "code",
      "metadata": {
        "id": "HP0bD8xAmWoL"
      },
      "source": [
        "train.head()"
      ],
      "execution_count": null,
      "outputs": []
    },
    {
      "cell_type": "code",
      "metadata": {
        "id": "esf72CS1mWoR"
      },
      "source": [
        "train.shape"
      ],
      "execution_count": null,
      "outputs": []
    },
    {
      "cell_type": "code",
      "source": [
        "train.describe()"
      ],
      "metadata": {
        "id": "JyWPokREBPZq"
      },
      "execution_count": null,
      "outputs": []
    },
    {
      "cell_type": "code",
      "metadata": {
        "id": "VKVzoXnrmWoV"
      },
      "source": [
        "# info() : pandas에서 자동으로 정보를 요약해주는 메서드\n",
        "train.info()"
      ],
      "execution_count": null,
      "outputs": []
    },
    {
      "cell_type": "code",
      "metadata": {
        "id": "pBNv4y-WmWoZ"
      },
      "source": [
        "train.isnull().sum() # 빠진 항목 개수"
      ],
      "execution_count": null,
      "outputs": []
    },
    {
      "cell_type": "markdown",
      "source": [
        "#### 몸풀기 미션 : `test.csv`에 대해서 탐색해보기"
      ],
      "metadata": {
        "id": "Egrk7kCcACv9"
      }
    },
    {
      "cell_type": "code",
      "source": [
        "# 위 내용을 참고해서 스스로 작성해봅시다!"
      ],
      "metadata": {
        "id": "4esC2lOu__Za"
      },
      "execution_count": null,
      "outputs": []
    },
    {
      "cell_type": "markdown",
      "metadata": {
        "id": "kyxjxIhsmWof"
      },
      "source": [
        "## 시각화로 데이터 살펴보기"
      ]
    },
    {
      "cell_type": "markdown",
      "metadata": {
        "id": "e-epcLtXmWof"
      },
      "source": [
        "#### 그래프를 그리기 위한 라이브러리 임포트"
      ]
    },
    {
      "cell_type": "code",
      "metadata": {
        "id": "CRmAxODdmWog"
      },
      "source": [
        "import matplotlib.pyplot as plt"
      ],
      "execution_count": null,
      "outputs": []
    },
    {
      "cell_type": "code",
      "source": [
        "# 한글 깨짐\n",
        "!sudo apt-get install -y fonts-nanum\n",
        "!sudo fc-cache -fv\n",
        "!rm ~/.cache/matplotlib -rf\n",
        "# 런타임 다시 실행"
      ],
      "metadata": {
        "id": "LtIRVMy5rb-Y"
      },
      "execution_count": null,
      "outputs": []
    },
    {
      "cell_type": "code",
      "source": [
        "plt.rc('font', family='NanumBarunGothic')"
      ],
      "metadata": {
        "id": "R20-w8cjraG4"
      },
      "execution_count": null,
      "outputs": []
    },
    {
      "cell_type": "markdown",
      "metadata": {
        "id": "kK4sDZ4FmWoi"
      },
      "source": [
        "### 선실별 승객 비율 살펴보기"
      ]
    },
    {
      "cell_type": "code",
      "source": [
        "plt.title(\"선실별 승객 분포\")\n",
        "plt.hist(x = train['Pclass'])\n",
        "plt.show()"
      ],
      "metadata": {
        "id": "SJpzNRDaqs4p"
      },
      "execution_count": null,
      "outputs": []
    },
    {
      "cell_type": "code",
      "metadata": {
        "scrolled": true,
        "id": "JyF2b6HSmWoi"
      },
      "source": [
        "# 선실별 승객 비율 - 파이차트\n",
        "plt.title(\"선실별 승객 비율\")\n",
        "pclass_plt = train['Pclass'].value_counts() # pclass_plt라는 변수에 train데이터의 pclass열의 각 값을 카운팅해서 저장합니다.\n",
        "pclass_plt.plot(kind='pie', autopct='%.2f%%', figsize=(10, 5)) # 소수점 둘째자리까지 %와 함께 출력, 표 크기 지정\n",
        "plt.show()"
      ],
      "execution_count": null,
      "outputs": []
    },
    {
      "cell_type": "code",
      "source": [
        "# 선실별 승객 수 - 바차트\n",
        "\n",
        "plt.title(\"선실별 승객 수\")\n",
        "\n",
        "pclass_plt = train['Pclass'].value_counts() # pclass_plt라는 변수에 train데이터의 pclass열의 각 값을 카운팅해서 저장합니다.\n",
        "pclass_plt.plot(kind='bar', figsize=(10, 5))\n",
        "plt.show()"
      ],
      "metadata": {
        "id": "V_uJ2INcscvs"
      },
      "execution_count": null,
      "outputs": []
    },
    {
      "cell_type": "markdown",
      "metadata": {
        "id": "XmuysJ9EmWok"
      },
      "source": [
        "### 그래프 그리는 함수 만들기 \n",
        "\n",
        "그래프를 뚝딱 그려주는 함수를 만들어 봅시다. 함수란 반복적으로 사용되는 가치 있는 부분을 한 뭉치로 묶어서 어떤 입력값을 주었을 때 어떤 결과값을 돌려주는 것. 각종 그래프별로 미리 함수를 만들어두었으니 편하게 사용해서 그래프를 그려봅시다."
      ]
    },
    {
      "cell_type": "markdown",
      "metadata": {
        "id": "wLBQ4HvJmWol"
      },
      "source": [
        "#### 선 그래프"
      ]
    },
    {
      "cell_type": "code",
      "metadata": {
        "id": "t70-xFb7mWol"
      },
      "source": [
        "def chart(feature):\n",
        "    "
      ],
      "execution_count": null,
      "outputs": []
    },
    {
      "cell_type": "markdown",
      "metadata": {
        "id": "vH6aEwrymWon"
      },
      "source": [
        "#### 막대 그래프"
      ]
    },
    {
      "cell_type": "code",
      "metadata": {
        "id": "mK27RnFzmWon"
      },
      "source": [
        "def bar_chart(feature):\n",
        "    "
      ],
      "execution_count": null,
      "outputs": []
    },
    {
      "cell_type": "markdown",
      "metadata": {
        "id": "pI2Ct9jKmWop"
      },
      "source": [
        "* kind=bar : 막대 그래프로 출력 <br>\n",
        "* stack : 막대를 스택 형태로 표현할지 여부 <br>\n",
        "* figsize : 그래프 사이즈 조절"
      ]
    },
    {
      "cell_type": "markdown",
      "source": [
        "어떤 feature 즉 어떤 요소가 생존에 영향을 주었는지를 파악할 수 있도록 그래프로 그려주고 있다. <br>\n",
        "예를 들어 나이라는 요소를 함수에 입력 값으로 집어 넣으면 이 함수는 나이가 n살인 사람들 중 생존자와 사망자를 각각 카운팅해서 그래프로 그려주고 있다."
      ],
      "metadata": {
        "id": "CE996D9StqIl"
      }
    },
    {
      "cell_type": "markdown",
      "metadata": {
        "id": "jCJ-sYi2mWoq"
      },
      "source": [
        "#### 파이차트"
      ]
    },
    {
      "cell_type": "code",
      "metadata": {
        "id": "5E2cgJMDmWor"
      },
      "source": [
        "def pie_chart(feature):\n",
        "    "
      ],
      "execution_count": null,
      "outputs": []
    },
    {
      "cell_type": "markdown",
      "metadata": {
        "id": "hOqwjbH2mWot"
      },
      "source": [
        "#### 히스토그램"
      ]
    },
    {
      "cell_type": "code",
      "metadata": {
        "id": "R90TuQXYmWot"
      },
      "source": [
        "def hist_chart(feature):\n",
        "    "
      ],
      "execution_count": null,
      "outputs": []
    },
    {
      "cell_type": "markdown",
      "metadata": {
        "id": "vk2UTQA4mWov"
      },
      "source": [
        "#### 박스 그래프"
      ]
    },
    {
      "cell_type": "code",
      "metadata": {
        "id": "rbCJfIckmWow"
      },
      "source": [
        "def box_chart(feature):\n",
        "    "
      ],
      "execution_count": null,
      "outputs": []
    },
    {
      "cell_type": "markdown",
      "metadata": {
        "id": "0yuz2cbAmWoz"
      },
      "source": [
        "#### 밀도 그래프"
      ]
    },
    {
      "cell_type": "code",
      "metadata": {
        "id": "F4lEvW61mWo0"
      },
      "source": [
        "def kde_chart(feature):\n",
        "    "
      ],
      "execution_count": null,
      "outputs": []
    },
    {
      "cell_type": "markdown",
      "source": [
        "아직 def를 통해 함수를 정의하는 단계이고, 호출하지 않았기 때문에 그래프는 보이지 않는다. <br>\n",
        "파이차트, 히스토그램, 박스그래프, 밀도그래프 주요 내용은 다 같고 그래프 형식만 다른 것을 확인할 수 있다."
      ],
      "metadata": {
        "id": "BGZbEtVcuIC_"
      }
    },
    {
      "cell_type": "code",
      "metadata": {
        "scrolled": true,
        "id": "K35CupIOmWo1"
      },
      "source": [
        "bar_chart('Sex')"
      ],
      "execution_count": null,
      "outputs": []
    },
    {
      "cell_type": "markdown",
      "metadata": {
        "id": "1oBx6P9MmWo3"
      },
      "source": [
        "* 간단 결론 : 여자는 남자보다 살아날 확률이 높았다."
      ]
    },
    {
      "cell_type": "code",
      "metadata": {
        "id": "eVNGTyb0mWo3"
      },
      "source": [
        "pie_chart('Pclass')"
      ],
      "execution_count": null,
      "outputs": []
    },
    {
      "cell_type": "markdown",
      "metadata": {
        "id": "-bX1eXiemWo6"
      },
      "source": [
        "* 간단 결론 : 타이타닉호의 등급이 생존에 영향을 주었다. 더 좋은 칸일수록 더 많이 살아남았다."
      ]
    },
    {
      "cell_type": "code",
      "metadata": {
        "id": "gBkoeQvumWo6"
      },
      "source": [
        "bar_chart('SibSp')"
      ],
      "execution_count": null,
      "outputs": []
    },
    {
      "cell_type": "markdown",
      "metadata": {
        "id": "F09rmQ38mWo8"
      },
      "source": [
        "* 간단 결론 : 형제나 배우자가 있을 때 더 많이 살았다."
      ]
    },
    {
      "cell_type": "code",
      "metadata": {
        "id": "It3cLNULmWo9"
      },
      "source": [
        "bar_chart('Parch')"
      ],
      "execution_count": null,
      "outputs": []
    },
    {
      "cell_type": "markdown",
      "metadata": {
        "id": "9dM9xupVmWo-"
      },
      "source": [
        "* 간단 결론 : 부모님이나 자식이 있을 때 더 많이 살았다."
      ]
    },
    {
      "cell_type": "code",
      "metadata": {
        "id": "MGK2QftXmWo-"
      },
      "source": [
        "pie_chart('Embarked')"
      ],
      "execution_count": null,
      "outputs": []
    },
    {
      "cell_type": "markdown",
      "metadata": {
        "id": "8biXc0elmWpE"
      },
      "source": [
        "* 간단 결론 : C 선착장에서 탑승한 사람은 생존율이 특히 높다."
      ]
    },
    {
      "cell_type": "markdown",
      "source": [
        "그러나 하나의 특성과 생존비율 만을 생각해서 예측하기에는 무리가 있다. <br>\n",
        "\n",
        "예를 들어 높은 금액의 티켓을 산 부유한 사람이 가족들이랑 왔을 경우가 많다고 가정해본다면, 가족들과 함께 왔다고 해서 살 가능성이 높다고 할 수는 없다. <br>\n",
        "\n",
        "따라서 단일 특성을 가지고 생존 확률을 예측하기보단 여러가지 특성을 종합해서 예측을 하는 것이 더 좋을 것이다."
      ],
      "metadata": {
        "id": "ZDFoUTusvjzI"
      }
    },
    {
      "cell_type": "markdown",
      "source": [
        "#### 여러가지 feature 값 기준으로 그래프를 그려보기"
      ],
      "metadata": {
        "id": "jcr64_P4Vo2F"
      }
    },
    {
      "cell_type": "code",
      "source": [
        "# 여기에서 함수 호출하기"
      ],
      "metadata": {
        "id": "90--SWYqVnpO"
      },
      "execution_count": null,
      "outputs": []
    },
    {
      "cell_type": "markdown",
      "metadata": {
        "id": "wzCIxrngmWpE"
      },
      "source": [
        "# Feature Engineering"
      ]
    },
    {
      "cell_type": "markdown",
      "metadata": {
        "id": "ktSA3SzTmWpF"
      },
      "source": [
        "feature Engineering : 머신러닝 알고리즘을 작동하기 위해 데이터에 대한 도메인 지식을 활용하여 특징(Feature)를 만들어내는 과정"
      ]
    },
    {
      "cell_type": "code",
      "metadata": {
        "id": "ZHkuxATmmWpF"
      },
      "source": [
        "train.head()"
      ],
      "execution_count": null,
      "outputs": []
    },
    {
      "cell_type": "markdown",
      "metadata": {
        "id": "QMOZdGsBmWpI"
      },
      "source": [
        "### 이름이 생존과 연관이 있었을까?"
      ]
    },
    {
      "cell_type": "code",
      "metadata": {
        "id": "aNDLbARkmWpI"
      },
      "source": [
        "train_test_data = [train, test] # train과 test 데이터 합치기\n",
        "for dataset in train_test_data:\n",
        "    dataset['Title'] = dataset['Name'].str.extract(' ([A-Za-z]+)\\.', expand=False)"
      ],
      "execution_count": null,
      "outputs": []
    },
    {
      "cell_type": "code",
      "metadata": {
        "id": "6wTmnjX1mWpK"
      },
      "source": [
        "train['Title'].value_counts()"
      ],
      "execution_count": null,
      "outputs": []
    },
    {
      "cell_type": "code",
      "metadata": {
        "id": "e8gCzuMUmWpM"
      },
      "source": [
        "test['Title'].value_counts()"
      ],
      "execution_count": null,
      "outputs": []
    },
    {
      "cell_type": "code",
      "metadata": {
        "id": "0RgMoA-MmWpO"
      },
      "source": [
        "title_mapping = {\"Mr\":0, \"Miss\":1, \"Mrs\":2,\n",
        "                \"Master\":3, \"Dr\":3, \"Rev\":3, \"Col\": 3, 'Ms': 3, 'Mlle': 3, \"Major\": 3, 'Lady': 3, 'Capt': 3,\n",
        "                 'Sir': 3, 'Don': 3, 'Mme':3, 'Jonkheer': 3, 'Countess': 3 }\n",
        "for dataset in train_test_data:\n",
        "    dataset['Title'] = dataset['Title'].map(title_mapping)"
      ],
      "execution_count": null,
      "outputs": []
    },
    {
      "cell_type": "code",
      "metadata": {
        "id": "7Z6q4lrQmWpP"
      },
      "source": [
        "train.head()"
      ],
      "execution_count": null,
      "outputs": []
    },
    {
      "cell_type": "code",
      "metadata": {
        "id": "yyn4rGD2mWpR"
      },
      "source": [
        "test.head()"
      ],
      "execution_count": null,
      "outputs": []
    },
    {
      "cell_type": "code",
      "metadata": {
        "scrolled": true,
        "id": "NRQ2Vw9qmWpS"
      },
      "source": [
        "bar_chart('Title')"
      ],
      "execution_count": null,
      "outputs": []
    },
    {
      "cell_type": "markdown",
      "metadata": {
        "id": "2J_GPSZlmWpU"
      },
      "source": [
        "결론: 이름은 생존과 연관이 있었다."
      ]
    },
    {
      "cell_type": "markdown",
      "metadata": {
        "id": "VREu2XMUmWpV"
      },
      "source": [
        "### Age 값 채우기"
      ]
    },
    {
      "cell_type": "code",
      "source": [
        "# 빠진 항목 개수 알아보기\n",
        "\n"
      ],
      "metadata": {
        "id": "aJAYv8iIbZbQ"
      },
      "execution_count": null,
      "outputs": []
    },
    {
      "cell_type": "markdown",
      "metadata": {
        "id": "h3J3xdWqmWpV"
      },
      "source": [
        "Age는 누락값이 많이 존재함. 이를 채우는 방법에 대해서 생각해보자.\n",
        "1. 누락값에 전체 나이 평균을 넣어준다.\n",
        "2. 누락값에 남성, 여성 별로 분류하여 평균 나이를 넣어준다."
      ]
    },
    {
      "cell_type": "code",
      "metadata": {
        "id": "vQnb-uI5mWpW"
      },
      "source": [
        "# Missing Age를 각 Title에 대한 연령의 중간값 으로 채운다(Mr, Mrs, Miss, Others)\n",
        "train['Age'].fillna(train.groupby('Title')['Age']._______________, inplace=True)\n",
        "test['Age'].fillna(test.groupby('Title')['Age']._______________, inplace=True)"
      ],
      "execution_count": null,
      "outputs": []
    },
    {
      "cell_type": "code",
      "metadata": {
        "id": "WRfvAVGlmWpX"
      },
      "source": [
        "# 빠진 항목 개수 다시 알아보기\n",
        "\n"
      ],
      "execution_count": null,
      "outputs": []
    },
    {
      "cell_type": "code",
      "metadata": {
        "id": "dbHopAmFmWpZ"
      },
      "source": [
        "bar_chart('Age')"
      ],
      "execution_count": null,
      "outputs": []
    },
    {
      "cell_type": "markdown",
      "metadata": {
        "id": "sGi_SWwTmWpb"
      },
      "source": [
        "### Age Binning\n",
        "나이를 그대로 그래프 차트에 넣으면 0살부터 80살까지 너무 많은 정보가 들어있다. 그래서 feature engineering에서 Binning이라는 기술이 있는데, 이렇게 잇달아 일어나는 형태의 데이터는 많은 정보를 주지 못하므로 이럴땐 각각 하나의 카테고리에 나이를 담아 정보를 보다 명확하게 확인할 수 있는 방법이다."
      ]
    },
    {
      "cell_type": "code",
      "metadata": {
        "id": "XTSr7PrUmWpb"
      },
      "source": [
        "\n",
        "for dataset in train_test_data:\n",
        "    dataset.loc[ dataset['Age'] <= 16, 'Age'] = 0\n",
        "    dataset.loc[(dataset['Age'] > 16) & (dataset['Age'] <= 26), 'Age'] = 1\n",
        "    dataset.loc[(dataset['Age'] > 26) & (dataset['Age'] <= 36), 'Age'] = 2\n",
        "    dataset.loc[(dataset['Age'] > 36) & (dataset['Age'] <= 62), 'Age'] = 3\n",
        "    dataset.loc[ dataset['Age'] > 62, 'Age'] = 4"
      ],
      "execution_count": null,
      "outputs": []
    },
    {
      "cell_type": "code",
      "metadata": {
        "id": "KHtbNXUpmWpe"
      },
      "source": [
        "train.head()"
      ],
      "execution_count": null,
      "outputs": []
    },
    {
      "cell_type": "code",
      "metadata": {
        "id": "cfjEUh0JmWph"
      },
      "source": [
        "bar_chart('Age')"
      ],
      "execution_count": null,
      "outputs": []
    },
    {
      "cell_type": "markdown",
      "metadata": {
        "id": "nHJnYUbdmWpi"
      },
      "source": [
        "0에 해당하는 16세 이하 아이들의 경우 다른 그룹보다 생존률이 높음을 확인할 수 있다. 4에 해당하는 62세 이상의 어르신들은 사망률이 아주 높다는 것을 확인할 수 있다. 이렇게 Age information을 binning이라는 테크닉을 이용하여 좀 더 이해하기 쉽게 그래프로 보일 수 있고, classifier 하는데 조금 더 쉽게 예측할 수 있다"
      ]
    },
    {
      "cell_type": "markdown",
      "metadata": {
        "id": "y1ah3-bXmWpj"
      },
      "source": [
        "### Embarked 채우기"
      ]
    },
    {
      "cell_type": "code",
      "metadata": {
        "id": "evLheX6dmWpj"
      },
      "source": [
        "Pclass1 = train[train['Pclass']==1]['Embarked'].value_counts()\n",
        "Pclass2 = train[train['Pclass']==2]['Embarked'].value_counts()\n",
        "Pclass3 = train[train['Pclass']==3]['Embarked'].value_counts()\n",
        "df = pd.DataFrame([Pclass1, Pclass2, Pclass3])\n",
        "df.index = ['1st class', '2nd class', '3rd class']\n",
        "# 쌓인 모양의 bar 차트를 그려보자. 사이즈는 (10,5)\n"
      ],
      "execution_count": null,
      "outputs": []
    },
    {
      "cell_type": "markdown",
      "metadata": {
        "id": "R4igbc3OmWpk"
      },
      "source": [
        "대부분 S 선착장에서 탔다. 빈 Embarked는 S로 채워넣어도 무방할 것으로 판단된다."
      ]
    },
    {
      "cell_type": "code",
      "metadata": {
        "id": "YpJAqILqmWpl"
      },
      "source": [
        "for dataset in train_test_data:\n",
        "    dataset['Embarked'] = dataset['Embarked'].fillna('S')"
      ],
      "execution_count": null,
      "outputs": []
    },
    {
      "cell_type": "code",
      "metadata": {
        "id": "f3GoS4TDmWpm"
      },
      "source": [
        "train.head()"
      ],
      "execution_count": null,
      "outputs": []
    },
    {
      "cell_type": "markdown",
      "metadata": {
        "id": "zerl5njPmWpp"
      },
      "source": [
        "### Fare"
      ]
    },
    {
      "cell_type": "code",
      "metadata": {
        "id": "MZg4RnXdmWpq"
      },
      "source": [
        "bar_chart('Fare')"
      ],
      "execution_count": null,
      "outputs": []
    },
    {
      "cell_type": "markdown",
      "metadata": {
        "id": "pc1RZ0wHmWpr"
      },
      "source": [
        "### Fare Binning"
      ]
    },
    {
      "cell_type": "code",
      "metadata": {
        "id": "GRq-5zz9mWpr"
      },
      "source": [
        "for dataset in train_test_data:\n",
        "    dataset.loc[ dataset['Fare'] <= 17, 'Fare'] = 0\n",
        "    dataset.loc[(dataset['Fare'] > 17) & (dataset['Fare'] <= 30), 'Fare'] = 1\n",
        "    dataset.loc[(dataset['Fare'] > 30) & (dataset['Fare'] <= 100), 'Fare'] = 2\n",
        "    dataset.loc[ dataset['Fare'] > 100, 'Fare'] = 3"
      ],
      "execution_count": null,
      "outputs": []
    },
    {
      "cell_type": "code",
      "metadata": {
        "id": "IuPdXTtimWpt"
      },
      "source": [
        "bar_chart('Fare')"
      ],
      "execution_count": null,
      "outputs": []
    },
    {
      "cell_type": "markdown",
      "metadata": {
        "id": "YPEL12RAmWpu"
      },
      "source": [
        "간단 결론 : 티켓 가격이 저렴할수록 사망할 확률이 높았다."
      ]
    },
    {
      "cell_type": "markdown",
      "source": [
        "# 미션 5\n",
        "#### 데이터 분석, 인사이트 도출 보고서 작성\n"
      ],
      "metadata": {
        "id": "jnQV8_bsIWP3"
      }
    },
    {
      "cell_type": "code",
      "source": [
        "# 여기에 작성해봅시다!"
      ],
      "metadata": {
        "id": "SajV_GglIgU5"
      },
      "execution_count": null,
      "outputs": []
    }
  ]
}